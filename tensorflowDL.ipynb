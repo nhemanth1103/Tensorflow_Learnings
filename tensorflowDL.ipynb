{
  "nbformat": 4,
  "nbformat_minor": 0,
  "metadata": {
    "colab": {
      "provenance": [],
      "authorship_tag": "ABX9TyPh5H6thrJKT3JYm0sbYlzn",
      "include_colab_link": true
    },
    "kernelspec": {
      "name": "python3",
      "display_name": "Python 3"
    },
    "language_info": {
      "name": "python"
    }
  },
  "cells": [
    {
      "cell_type": "markdown",
      "metadata": {
        "id": "view-in-github",
        "colab_type": "text"
      },
      "source": [
        "<a href=\"https://colab.research.google.com/github/nhemanth1103/Tensorflow_Learnings/blob/main/tensorflowDL.ipynb\" target=\"_parent\"><img src=\"https://colab.research.google.com/assets/colab-badge.svg\" alt=\"Open In Colab\"/></a>"
      ]
    },
    {
      "cell_type": "code",
      "source": [
        "import tensorflow as tf"
      ],
      "metadata": {
        "id": "wNbtsQWf1DEw"
      },
      "execution_count": null,
      "outputs": []
    },
    {
      "cell_type": "markdown",
      "source": [
        "1.create a tensor 2*3 floating point number values\n",
        "[[1.2, 3.4, 5.6], [7.8, 9.0, 1.1]]"
      ],
      "metadata": {
        "id": "h5snOInE1TZs"
      }
    },
    {
      "cell_type": "code",
      "source": [
        "import tensorflow as tf\n",
        "#creating a tensor\n",
        "tensor_1=tf.constant([[1.2, 3.4, 5.6], [7.8, 9.0, 1.1]],dtype=tf.float32)\n",
        "#print the tensor shape and it's type\n",
        "print(\"Tensor:\\n\",tensor_1)\n",
        "print(\"Tensor shape:\",tensor_1.shape)\n",
        "print(\"Tensor type:\",tensor_1.dtype)"
      ],
      "metadata": {
        "id": "VNoM07IC1RJ1",
        "colab": {
          "base_uri": "https://localhost:8080/"
        },
        "outputId": "d3a3782c-3bc2-4a29-87df-57e250e4f68c"
      },
      "execution_count": null,
      "outputs": [
        {
          "output_type": "stream",
          "name": "stdout",
          "text": [
            "Tensor:\n",
            " tf.Tensor(\n",
            "[[1.2 3.4 5.6]\n",
            " [7.8 9.  1.1]], shape=(2, 3), dtype=float32)\n",
            "Tensor shape: (2, 3)\n",
            "Tensor type: <dtype: 'float32'>\n"
          ]
        }
      ]
    },
    {
      "cell_type": "markdown",
      "source": [
        "Problem 2: Tensor Operations\n",
        "Create two 3x3 tensors and perform element-wise addition, subtraction, and multiplication.[[1, 2, 3], [4, 5, 6], [7, 8, 9]]\n",
        "[[9, 8, 7], [6, 5, 4], [3, 2, 1]]\n"
      ],
      "metadata": {
        "id": "2EVAt2K97-Mw"
      }
    },
    {
      "cell_type": "code",
      "source": [
        "import tensorflow as tf\n",
        "tensor_1=tf.constant([[1, 2, 3], [4, 5, 6], [7, 8, 9]],dtype=tf.int32)\n",
        "tensor_2=tf.constant([[9, 8, 7], [6, 5, 4], [3, 2, 1]],dtype=tf.int32)\n",
        "add_tensors=tf.add(tensor_1,tensor_2)\n",
        "sub_tensor=tf.subtract(tensor_1,tensor_2)\n",
        "div_tensor=tf.divide(tensor_1,tensor_2)\n",
        "multiply_tensor=tf.multiply(tensor_1,tensor_2)\n",
        "print(\"Additional results:\\n\",add_tensors)\n",
        "print(\"substraction result:\\n\",sub_tensor)\n",
        "print(\"division results\\n\",div_tensor)\n",
        "print(\"multiply results\\n\",multiply_tensor)"
      ],
      "metadata": {
        "colab": {
          "base_uri": "https://localhost:8080/"
        },
        "id": "4doK-HqP79aq",
        "outputId": "16e4dbed-7185-45fb-977a-8682bdb449e6"
      },
      "execution_count": null,
      "outputs": [
        {
          "output_type": "stream",
          "name": "stdout",
          "text": [
            "Additional results:\n",
            " tf.Tensor(\n",
            "[[10 10 10]\n",
            " [10 10 10]\n",
            " [10 10 10]], shape=(3, 3), dtype=int32)\n",
            "substraction result:\n",
            " tf.Tensor(\n",
            "[[-8 -6 -4]\n",
            " [-2  0  2]\n",
            " [ 4  6  8]], shape=(3, 3), dtype=int32)\n",
            "division results\n",
            " tf.Tensor(\n",
            "[[0.11111111 0.25       0.42857143]\n",
            " [0.66666667 1.         1.5       ]\n",
            " [2.33333333 4.         9.        ]], shape=(3, 3), dtype=float64)\n",
            "multiply results\n",
            " tf.Tensor(\n",
            "[[ 9 16 21]\n",
            " [24 25 24]\n",
            " [21 16  9]], shape=(3, 3), dtype=int32)\n"
          ]
        }
      ]
    },
    {
      "cell_type": "markdown",
      "source": [
        "Problem 3: Reshaping a Tensor\n",
        "Create a tensor of shape (3, 2) and reshape it into a tensor of shape (2, 3).values[[1, 2], [3, 4], [5, 6]]\n"
      ],
      "metadata": {
        "id": "Vgcx_ADLBssE"
      }
    },
    {
      "cell_type": "code",
      "source": [
        "import tensorflow as tf\n",
        "tensor_a=tf.constant([[1, 2], [3, 4], [5, 6]],dtype=tf.int32)\n",
        "tensor_b=tf.reshape(tensor_a,[2,3])\n",
        "print(tensor_b)"
      ],
      "metadata": {
        "colab": {
          "base_uri": "https://localhost:8080/"
        },
        "id": "PbeUd0S7BsKB",
        "outputId": "a86fbde6-2908-495e-9a21-dd33c1be1eb8"
      },
      "execution_count": null,
      "outputs": [
        {
          "output_type": "stream",
          "name": "stdout",
          "text": [
            "tf.Tensor(\n",
            "[[1 2 3]\n",
            " [4 5 6]], shape=(2, 3), dtype=int32)\n"
          ]
        }
      ]
    },
    {
      "cell_type": "markdown",
      "source": [
        "Problem 4: Creating Zeros and Ones Tensors\n",
        "Create a tensor of all zeros of shape (3, 3) and another tensor of all ones of shape (2, 4)."
      ],
      "metadata": {
        "id": "LeLGs_P-DH8b"
      }
    },
    {
      "cell_type": "code",
      "source": [
        "import tensorflow as tf\n",
        "tensor_zeros=tf.zeros([3,3])\n",
        "tensor_ones=tf.ones({2,4})\n",
        "print(\"zeros tensor:\\n\",tensor_zeros)\n",
        "print(\"ones tensor:\\n\",tensor_ones)"
      ],
      "metadata": {
        "colab": {
          "base_uri": "https://localhost:8080/"
        },
        "id": "ToJFmUPDDHfH",
        "outputId": "a61f7a19-fefe-44cf-c36a-a4e8b419925a"
      },
      "execution_count": null,
      "outputs": [
        {
          "output_type": "stream",
          "name": "stdout",
          "text": [
            "zeros tensor:\n",
            " tf.Tensor(\n",
            "[[0. 0. 0.]\n",
            " [0. 0. 0.]\n",
            " [0. 0. 0.]], shape=(3, 3), dtype=float32)\n",
            "ones tensor:\n",
            " tf.Tensor(\n",
            "[[1. 1. 1. 1.]\n",
            " [1. 1. 1. 1.]], shape=(2, 4), dtype=float32)\n"
          ]
        }
      ]
    },
    {
      "cell_type": "markdown",
      "source": [
        "Problem 5: Random Tensors\n",
        "Generate a 4x4 tensor with random values from a normal distribution and a 2x2 tensor with random values from a uniform distribution.....?UNIFORM:Values are equally likely within a given range(minval,maxval).\n",
        "NORMAL:Values cluster around the mean, following a bell curve(mean,stddev)."
      ],
      "metadata": {
        "id": "ehwauEOGFTPj"
      }
    },
    {
      "cell_type": "code",
      "source": [
        "import tensorflow as tf\n",
        "normal_tensor=tf.random.normal([4,4],mean=0,stddev=1)\n",
        "uniform_tensor=tf.random.uniform([2,2],minval=0,maxval=1)\n",
        "print(\"Normal distrubution tensor:\\n\",normal_tensor)\n",
        "print(\"Uniform distrubution tensor:\\n\",uniform_tensor)"
      ],
      "metadata": {
        "colab": {
          "base_uri": "https://localhost:8080/"
        },
        "id": "aKd-l5yOFS87",
        "outputId": "c3c54c3a-cb3e-4a35-ee93-fc77ea02a347"
      },
      "execution_count": null,
      "outputs": [
        {
          "output_type": "stream",
          "name": "stdout",
          "text": [
            "Normal distrubution tensor:\n",
            " tf.Tensor(\n",
            "[[-1.0432969   0.90708536  0.7989642  -1.0304294 ]\n",
            " [-0.08852495 -0.21376167 -0.25020835 -0.57017976]\n",
            " [ 0.48617557  1.3563063  -0.8597052  -0.7922548 ]\n",
            " [ 1.2525339  -0.39352372 -0.4467469  -0.4530071 ]], shape=(4, 4), dtype=float32)\n",
            "Uniform distrubution tensor:\n",
            " tf.Tensor(\n",
            "[[0.69784975 0.5108408 ]\n",
            " [0.14973617 0.84783447]], shape=(2, 2), dtype=float32)\n"
          ]
        }
      ]
    },
    {
      "cell_type": "code",
      "source": [],
      "metadata": {
        "id": "BMEhVoi51JdK"
      },
      "execution_count": null,
      "outputs": []
    }
  ]
}